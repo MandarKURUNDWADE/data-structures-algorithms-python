{
    "cells": [
        {
            "cell_type": "code",
            "execution_count": 1,
            "metadata": {},
            "outputs": [],
            "source": [
                "from array import *"
            ]
        },
        {
            "cell_type": "markdown",
            "metadata": {},
            "source": [
                "1. Create an Array and Traverse"
            ]
        },
        {
            "cell_type": "code",
            "execution_count": 2,
            "metadata": {},
            "outputs": [
                {
                    "name": "stdout",
                    "output_type": "stream",
                    "text": [
                        "1\n",
                        "2\n",
                        "3\n",
                        "4\n",
                        "5\n",
                        "6\n"
                    ]
                }
            ],
            "source": [
                "my_array = array('i', [1,2,3,4,5,6])\n",
                "for i in my_array:\n",
                "    print(i)"
            ]
        },
        {
            "cell_type": "markdown",
            "metadata": {},
            "source": [
                "2.Access Individual Elements through Indexes"
            ]
        },
        {
            "cell_type": "code",
            "execution_count": 3,
            "metadata": {},
            "outputs": [
                {
                    "name": "stdout",
                    "output_type": "stream",
                    "text": [
                        "Array from Step 2\n",
                        "3\n"
                    ]
                }
            ],
            "source": [
                "print(\"Array from Step 2\")\n",
                "print(my_array[2])"
            ]
        },
        {
            "cell_type": "markdown",
            "metadata": {},
            "source": [
                "3.Append any value to the array using append() method "
            ]
        },
        {
            "cell_type": "code",
            "execution_count": 4,
            "metadata": {},
            "outputs": [
                {
                    "name": "stdout",
                    "output_type": "stream",
                    "text": [
                        "array('i', [1, 2, 3, 4, 5, 6, 7])\n"
                    ]
                }
            ],
            "source": [
                "my_array.append(7)\n",
                "print(my_array)"
            ]
        },
        {
            "cell_type": "markdown",
            "metadata": {},
            "source": [
                "4.Insert value in any array using insert method"
            ]
        },
        {
            "cell_type": "code",
            "execution_count": 5,
            "metadata": {},
            "outputs": [
                {
                    "name": "stdout",
                    "output_type": "stream",
                    "text": [
                        "array('i', [11, 1, 2, 3, 4, 5, 6, 7])\n"
                    ]
                }
            ],
            "source": [
                "my_array.insert(0,11)\n",
                "print(my_array)"
            ]
        },
        {
            "cell_type": "markdown",
            "metadata": {},
            "source": [
                "5.Extend Python Array using extend method()"
            ]
        },
        {
            "cell_type": "code",
            "execution_count": 6,
            "metadata": {},
            "outputs": [
                {
                    "name": "stdout",
                    "output_type": "stream",
                    "text": [
                        "array('i', [11, 1, 2, 3, 4, 5, 6, 7, 10, 11, 12])\n"
                    ]
                }
            ],
            "source": [
                "my_array1 = array('i', [10,11,12])\n",
                "my_array.extend(my_array1)\n",
                "print(my_array)"
            ]
        },
        {
            "cell_type": "markdown",
            "metadata": {},
            "source": [
                "6.Remove any array element using remove() method"
            ]
        },
        {
            "cell_type": "code",
            "execution_count": 7,
            "metadata": {},
            "outputs": [
                {
                    "name": "stdout",
                    "output_type": "stream",
                    "text": [
                        "array('i', [1, 2, 3, 4, 5, 6, 7, 10, 11, 12])\n",
                        "remove() fn removes the first appearence of that element\n"
                    ]
                }
            ],
            "source": [
                "my_array.remove(11)\n",
                "print(my_array)\n",
                "print(\"remove() fn removes the first appearence of that element\")"
            ]
        },
        {
            "cell_type": "markdown",
            "metadata": {},
            "source": [
                "7.Remove last array element using pop() method"
            ]
        },
        {
            "cell_type": "code",
            "execution_count": 8,
            "metadata": {},
            "outputs": [
                {
                    "name": "stdout",
                    "output_type": "stream",
                    "text": [
                        "array('i', [1, 2, 3, 4, 5, 6, 7, 10, 11])\n"
                    ]
                }
            ],
            "source": [
                "my_array.pop()\n",
                "print(my_array)"
            ]
        },
        {
            "cell_type": "markdown",
            "metadata": {},
            "source": [
                "8.Fetch any element through its index using index() method"
            ]
        },
        {
            "cell_type": "code",
            "execution_count": 9,
            "metadata": {},
            "outputs": [
                {
                    "name": "stdout",
                    "output_type": "stream",
                    "text": [
                        "6\n"
                    ]
                }
            ],
            "source": [
                "print(my_array.index(7))"
            ]
        },
        {
            "cell_type": "markdown",
            "metadata": {},
            "source": [
                "9.Reverse an array using reverse() method"
            ]
        },
        {
            "cell_type": "code",
            "execution_count": 10,
            "metadata": {},
            "outputs": [
                {
                    "name": "stdout",
                    "output_type": "stream",
                    "text": [
                        "array('i', [11, 10, 7, 6, 5, 4, 3, 2, 1])\n"
                    ]
                }
            ],
            "source": [
                "my_array.reverse()\n",
                "print(my_array)"
            ]
        },
        {
            "cell_type": "markdown",
            "metadata": {},
            "source": [
                "10.Get array buffer information through buffer_info() method"
            ]
        },
        {
            "cell_type": "code",
            "execution_count": 11,
            "metadata": {},
            "outputs": [
                {
                    "name": "stdout",
                    "output_type": "stream",
                    "text": [
                        "(2261007470144, 9)\n"
                    ]
                }
            ],
            "source": [
                "print(my_array.buffer_info())"
            ]
        }
    ],
    "metadata": {
        "interpreter": {
            "hash": "5b811d967d036cde1cf7b172db75bf79bb82a2e9d3e7a86e4a189b450f45adf4"
        },
        "kernelspec": {
            "display_name": "Python 3.9.6 64-bit",
            "name": "python3"
        },
        "language_info": {
            "codemirror_mode": {
                "name": "ipython",
                "version": 3
            },
            "file_extension": ".py",
            "mimetype": "text/x-python",
            "name": "python",
            "nbconvert_exporter": "python",
            "pygments_lexer": "ipython3",
            "version": "3.9.6"
        },
        "orig_nbformat": 4
    },
    "nbformat": 4,
    "nbformat_minor": 2
}
